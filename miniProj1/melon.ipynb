{
 "cells": [
  {
   "cell_type": "code",
   "execution_count": 2,
   "id": "27ce0952",
   "metadata": {},
   "outputs": [],
   "source": [
    "#멜론 사이트 접속하기 및 라이브러리 불러오기 \n",
    "from selenium import webdriver\n",
    "from bs4 import BeautifulSoup\n",
    "\n",
    "driver = webdriver.Chrome(\".\\chromedriver.exe\")\n",
    "url = 'https://www.melon.com/chart/index.htm'\n",
    "driver.get(url)\n",
    "\n",
    "html = driver.page_source\n",
    "soup = BeautifulSoup(html, 'html.parser')"
   ]
  },
  {
   "cell_type": "code",
   "execution_count": 3,
   "id": "98c1a78f",
   "metadata": {},
   "outputs": [],
   "source": [
    "#반복문을 이용해 곡과 가수명을 song_data에 저장하기\n",
    "song_data = []\n",
    "rank = 1\n",
    "\n",
    "songs = soup.select('table > tbody > tr')\n",
    "for song in songs : \n",
    "    title = song.select('div.rank01 > span > a')[0]. text\n",
    "    singer = song.select('div.rank02 >a')[0].text\n",
    "    song_data.append(['Melon', rank, title, singer])\n",
    "    rank = rank + 1"
   ]
  },
  {
   "cell_type": "code",
   "execution_count": 5,
   "id": "bdf65d19",
   "metadata": {},
   "outputs": [
    {
     "name": "stdout",
     "output_type": "stream",
     "text": [
      "[['Melon', 1, '신호등', '이무진'], ['Melon', 2, '바라만 본다', 'MSG워너비(M.O.M)'], ['Melon', 3, 'Next Level', 'aespa'], ['Melon', 4, '낙하 (with 아이유)', 'AKMU (악뮤)'], ['Melon', 5, 'Permission to Dance', '방탄소년단'], ['Melon', 6, 'Weekend', '태연 (TAEYEON)'], ['Melon', 7, 'Butter', '방탄소년단'], ['Melon', 8, 'Queendom', 'Red Velvet (레드벨벳)'], ['Melon', 9, 'OHAYO MY NIGHT', '디핵 (D-Hack)'], ['Melon', 10, '좋아좋아', '조정석'], ['Melon', 11, 'DUMB DUMB', '전소미'], ['Melon', 12, 'STAY', 'The Kid LAROI'], ['Melon', 13, 'Peaches (Feat. Daniel Caesar & Giveon)', 'Justin Bieber'], ['Melon', 14, '헤픈 우연', '헤이즈 (Heize)'], ['Melon', 15, 'Dynamite', '방탄소년단'], ['Melon', 16, 'Dun Dun Dance', '오마이걸 (OH MY GIRL)'], ['Melon', 17, \"롤린 (Rollin')\", '브레이브걸스'], ['Melon', 18, '비와 당신', '이무진'], ['Melon', 19, '라일락', '아이유'], ['Melon', 20, 'Bad Habits', 'Ed Sheeran'], ['Melon', 21, '치맛바람 (Chi Mat Ba Ram)', '브레이브걸스'], ['Melon', 22, '이제 나만 믿어요', '임영웅'], ['Melon', 23, 'Alcohol-Free', 'TWICE (트와이스)'], ['Melon', 24, 'Celebrity', '아이유'], ['Melon', 25, '안녕 (Hello)', '조이 (JOY)'], ['Melon', 26, 'ASAP', 'STAYC(스테이씨)'], ['Melon', 27, '하루만 더', '빅마마'], ['Melon', 28, 'Savage Love (Laxed - Siren Beat) (BTS Remix)', 'Jawsh 685'], ['Melon', 29, '나를 아는 사람', 'MSG워너비(정상동기)'], ['Melon', 30, '사이렌 Remix (Feat. UNEDUCATED KID, Paul Blanco)', '호미들'], ['Melon', 31, '작은 것들을 위한 시 (Boy With Luv) (Feat. Halsey)', '방탄소년단'], ['Melon', 32, '운전만해 (We Ride)', '브레이브걸스'], ['Melon', 33, '다정히 내 이름을 부르면', '경서예지'], ['Melon', 34, '여전히 아름다운지', '세븐틴'], ['Melon', 35, '비가 오는 날엔 (2021)', '헤이즈 (Heize)'], ['Melon', 36, '상상더하기', '라붐 (LABOUM)'], ['Melon', 37, '내 손을 잡아', '아이유'], ['Melon', 38, 'Timeless', 'SG 워너비'], ['Melon', 39, '밝게 빛나는 별이 되어 비춰줄게', '송이한'], ['Melon', 40, '봄날', '방탄소년단'], ['Melon', 41, '멜로디', 'ASH ISLAND'], ['Melon', 42, '별빛 같은 나의 사랑아', '임영웅'], ['Melon', 43, 'Life Goes On', '방탄소년단'], ['Melon', 44, '상상더하기', 'MSG워너비 TOP 8 (별루지, 김정수, 강창모, 정기석, 이동휘, 이상이, 박재정, 원슈타인)'], ['Melon', 45, 'Lovesick Girls', 'BLACKPINK'], ['Melon', 46, '밤하늘의 별을(2020)', '경서'], ['Melon', 47, '사진을 보다가', '다비치'], ['Melon', 48, '가을 우체국 앞에서', '김대명'], ['Melon', 49, 'HERO', '임영웅'], ['Melon', 50, '그대라는 사치', '임영웅'], ['Melon', 51, '어떻게 이별까지 사랑하겠어, 널 사랑하는 거지', 'AKMU (악뮤)'], ['Melon', 52, 'Off My Face', 'Justin Bieber'], ['Melon', 53, '다시 사랑한다면 (김필 Ver.)', '임영웅'], ['Melon', 54, '어푸 (Ah puh)', '아이유'], ['Melon', 55, '아로하', '조정석'], ['Melon', 56, '끝사랑', '임영웅'], ['Melon', 57, 'Dolphin', '오마이걸 (OH MY GIRL)'], ['Melon', 58, 'Blueming', '아이유'], ['Melon', 59, '추억은 만남보다 이별에 남아', '정동하'], ['Melon', 60, 'Bk Love', '임영웅'], ['Melon', 61, '고백', '10CM'], ['Melon', 62, '에잇(Prod.&Feat. SUGA of BTS)', '아이유'], ['Melon', 63, '잠이 오질 않네요', '장범준'], ['Melon', 64, '라라라', 'SG 워너비'], ['Melon', 65, 'LOVE DAY (2021) (바른연애 길잡이 X 양요섭, 정은지)', '양요섭'], ['Melon', 66, '잊었니', '임영웅'], ['Melon', 67, '취기를 빌려 (취향저격 그녀 X 산들)', '산들'], ['Melon', 68, '슈퍼스타', '미도와 파라솔'], ['Melon', 69, '비 오는 날 듣기 좋은 노래 (Feat. Colde)', '에픽하이 (EPIK HIGH)'], ['Melon', 70, '2002', 'Anne-Marie'], ['Melon', 71, '넌 좋은 사람', 'SG 워너비'], ['Melon', 72, '그날에 나는 맘이 편했을까', '이예준'], ['Melon', 73, '이젠 잊기로 해요 (Drama Ver.)', '미도와 파라솔'], ['Melon', 74, '미워요', '임영웅'], ['Melon', 75, '흔들리는 꽃들 속에서 네 샴푸향이 느껴진거야', '장범준'], ['Melon', 76, 'METEOR', '창모 (CHANGMO)'], ['Melon', 77, '허리춤', '오반 (OVAN)'], ['Melon', 78, '모든 날, 모든 순간 (Every day, Every Moment)', '폴킴'], ['Melon', 79, '계단말고 엘리베이터', '임영웅'], ['Melon', 80, '사랑의 아픔 딛고', '임영웅'], ['Melon', 81, 'Coin', '아이유'], ['Melon', 82, '12:45 (Stripped)', 'Etham'], ['Melon', 83, 'VVS (Feat. JUSTHIS) (Prod. GroovyRoom)', '미란이 (Mirani)'], ['Melon', 84, '나랑 같이 걸을래 (바른연애 길잡이 X 적재)', '적재'], ['Melon', 85, 'On The Ground', '로제 (ROSÉ)'], ['Melon', 86, '오래된 노래', '스탠딩 에그'], ['Melon', 87, '제자리 걸음', 'V.O.S'], ['Melon', 88, '어떻게 지내 (Prod. By VAN.C)', '오반 (OVAN)'], ['Melon', 89, '너의 번호를 누르고 (Prod. 영화처럼)', '#안녕'], ['Melon', 90, 'Memories', 'Maroon 5'], ['Melon', 91, '내사람', 'SG 워너비'], ['Melon', 92, '오늘도 빛나는 너에게 (To You My Light) (Feat.이라온)', '마크툽 (MAKTUB)'], ['Melon', 93, '목로주점', '임영웅'], ['Melon', 94, '나는 너 좋아', '장범준'], ['Melon', 95, 'LO$ER=LO♡ER', '투모로우바이투게더'], ['Melon', 96, '마.피.아. In the morning', 'ITZY (있지)'], ['Melon', 97, '고백', '장범준'], ['Melon', 98, '사실 나는 (Feat.전건호)', '경서예지'], ['Melon', 99, '살짝 설렜어 (Nonstop)', '오마이걸 (OH MY GIRL)'], ['Melon', 100, '전쟁터 (with 이선희)', 'AKMU (악뮤)']]\n"
     ]
    }
   ],
   "source": [
    "print(song_data)"
   ]
  },
  {
   "cell_type": "code",
   "execution_count": 6,
   "id": "9237e47f",
   "metadata": {},
   "outputs": [
    {
     "data": {
      "text/html": [
       "<div>\n",
       "<style scoped>\n",
       "    .dataframe tbody tr th:only-of-type {\n",
       "        vertical-align: middle;\n",
       "    }\n",
       "\n",
       "    .dataframe tbody tr th {\n",
       "        vertical-align: top;\n",
       "    }\n",
       "\n",
       "    .dataframe thead th {\n",
       "        text-align: right;\n",
       "    }\n",
       "</style>\n",
       "<table border=\"1\" class=\"dataframe\">\n",
       "  <thead>\n",
       "    <tr style=\"text-align: right;\">\n",
       "      <th></th>\n",
       "      <th>서비스</th>\n",
       "      <th>순위</th>\n",
       "      <th>타이틀</th>\n",
       "      <th>가수</th>\n",
       "    </tr>\n",
       "  </thead>\n",
       "  <tbody>\n",
       "    <tr>\n",
       "      <th>0</th>\n",
       "      <td>Melon</td>\n",
       "      <td>1</td>\n",
       "      <td>신호등</td>\n",
       "      <td>이무진</td>\n",
       "    </tr>\n",
       "    <tr>\n",
       "      <th>1</th>\n",
       "      <td>Melon</td>\n",
       "      <td>2</td>\n",
       "      <td>바라만 본다</td>\n",
       "      <td>MSG워너비(M.O.M)</td>\n",
       "    </tr>\n",
       "    <tr>\n",
       "      <th>2</th>\n",
       "      <td>Melon</td>\n",
       "      <td>3</td>\n",
       "      <td>Next Level</td>\n",
       "      <td>aespa</td>\n",
       "    </tr>\n",
       "    <tr>\n",
       "      <th>3</th>\n",
       "      <td>Melon</td>\n",
       "      <td>4</td>\n",
       "      <td>낙하 (with 아이유)</td>\n",
       "      <td>AKMU (악뮤)</td>\n",
       "    </tr>\n",
       "    <tr>\n",
       "      <th>4</th>\n",
       "      <td>Melon</td>\n",
       "      <td>5</td>\n",
       "      <td>Permission to Dance</td>\n",
       "      <td>방탄소년단</td>\n",
       "    </tr>\n",
       "  </tbody>\n",
       "</table>\n",
       "</div>"
      ],
      "text/plain": [
       "     서비스  순위                  타이틀             가수\n",
       "0  Melon   1                  신호등            이무진\n",
       "1  Melon   2               바라만 본다  MSG워너비(M.O.M)\n",
       "2  Melon   3           Next Level          aespa\n",
       "3  Melon   4        낙하 (with 아이유)      AKMU (악뮤)\n",
       "4  Melon   5  Permission to Dance          방탄소년단"
      ]
     },
     "execution_count": 6,
     "metadata": {},
     "output_type": "execute_result"
    }
   ],
   "source": [
    "#song_data 리스트를 이용해 데이터 프레임 만들기 \n",
    "import pandas as pd\n",
    "columns = ['서비스','순위','타이틀','가수']\n",
    "pd_data = pd.DataFrame(song_data, columns = columns)\n",
    "pd_data.head()"
   ]
  },
  {
   "cell_type": "code",
   "execution_count": 7,
   "id": "1154ead6",
   "metadata": {},
   "outputs": [],
   "source": [
    "#크롤링 결과를 엑셀파일로 저장하기\n",
    "pd_data.to_excel('./file/melon.xlsx', index=False)"
   ]
  },
  {
   "cell_type": "code",
   "execution_count": null,
   "id": "54c51f03",
   "metadata": {},
   "outputs": [],
   "source": []
  }
 ],
 "metadata": {
  "kernelspec": {
   "display_name": "Python 3",
   "language": "python",
   "name": "python3"
  },
  "language_info": {
   "codemirror_mode": {
    "name": "ipython",
    "version": 3
   },
   "file_extension": ".py",
   "mimetype": "text/x-python",
   "name": "python",
   "nbconvert_exporter": "python",
   "pygments_lexer": "ipython3",
   "version": "3.8.8"
  }
 },
 "nbformat": 4,
 "nbformat_minor": 5
}
